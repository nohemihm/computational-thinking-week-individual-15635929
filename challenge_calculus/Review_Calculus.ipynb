{
 "cells": [
  {
   "cell_type": "markdown",
   "id": "d42feff0",
   "metadata": {},
   "source": [
    "Welcome to the calculus review! Calculus is a vital tool in fields like machine learning, helping us analyze complex systems. In this review, we'll remain your knowledge of derivative and integral and connect them with data analysis. Show your understanding by answering the following questions from the Bronze level to Silver and Gold levels."
   ]
  },
  {
   "cell_type": "markdown",
   "id": "44687aad",
   "metadata": {},
   "source": [
    "## Learning goals\n",
    "Refresh your knowledge of calculus:\n",
    "- Derivative of a function\n",
    "- Indefinite integral of a function \n",
    "- Definite integral of a function "
   ]
  },
  {
   "cell_type": "markdown",
   "id": "535ca0f7",
   "metadata": {},
   "source": [
    "# Preparation 1: Derivative of a Power Function\n",
    "\n",
    "a) State the power rule for differentiation.\n",
    "\n",
    "b) Use the power rule to find the derivative of the following power function: \n",
    "   f(x) = 5x^3"
   ]
  },
  {
   "cell_type": "code",
   "execution_count": 10,
   "id": "6d55c8f9",
   "metadata": {},
   "outputs": [
    {
     "data": {
      "text/plain": [
       "'b) 15x^2'"
      ]
     },
     "execution_count": 10,
     "metadata": {},
     "output_type": "execute_result"
    }
   ],
   "source": [
    "\"a) Having X^n, multiply x by the exponent and then reduce the exponent by 1\"\n",
    "\"b) 15x^2\"\n"
   ]
  },
  {
   "cell_type": "markdown",
   "id": "763fa8c5",
   "metadata": {},
   "source": [
    "If you can not solve it directly, you can see this Guidance:\n",
    "1. Make sure you are are familiar with the power rule, which states that the derivative of x^n, where n is a constant, is n*x^(n-1).\n",
    "2. Encourage them to substitute the given function into the power rule and apply the rule correctly.\n",
    "3. Remind them to simplify their final answer by combining like terms, if applicable."
   ]
  },
  {
   "cell_type": "markdown",
   "id": "f123c2ab",
   "metadata": {},
   "source": [
    "You can run the following code to see the answer. Please make sure you understand that."
   ]
  },
  {
   "cell_type": "code",
   "execution_count": 4,
   "id": "53290a2b",
   "metadata": {},
   "outputs": [],
   "source": [
    "import base64\n",
    "import numpy as np"
   ]
  },
  {
   "cell_type": "code",
   "execution_count": null,
   "id": "c7aaae0f",
   "metadata": {},
   "outputs": [
    {
     "name": "stdout",
     "output_type": "stream",
     "text": [
      "/usr/local/bin/python3\n",
      "Requirement already satisfied: pip in /Library/Frameworks/Python.framework/Versions/3.12/lib/python3.12/site-packages (24.0)\n",
      "Collecting pip\n",
      "  Downloading pip-25.2-py3-none-any.whl.metadata (4.7 kB)\n",
      "Collecting numpy\n",
      "  Downloading numpy-2.3.2-cp312-cp312-macosx_14_0_arm64.whl.metadata (62 kB)\n",
      "\u001b[2K     \u001b[90m━━━━━━━━━━━━━━━━━━━━━━━━━━━━━━━━━━━━━━━━\u001b[0m \u001b[32m62.1/62.1 kB\u001b[0m \u001b[31m1.4 MB/s\u001b[0m eta \u001b[36m0:00:00\u001b[0m\n",
      "\u001b[?25hDownloading pip-25.2-py3-none-any.whl (1.8 MB)\n",
      "\u001b[2K   \u001b[90m━━━━━━━━━━━━━━━━━━━━━━━━━━━━━━━━━━━━━━━━\u001b[0m \u001b[32m1.8/1.8 MB\u001b[0m \u001b[31m6.5 MB/s\u001b[0m eta \u001b[36m0:00:00\u001b[0m00:01\u001b[0m00:01\u001b[0m\n",
      "\u001b[?25hDownloading numpy-2.3.2-cp312-cp312-macosx_14_0_arm64.whl (5.1 MB)\n",
      "\u001b[2K   \u001b[90m━━━━━━━━━━━━━━━━━━━━━━━━━━━━━━━━━━━━━━━━\u001b[0m \u001b[32m5.1/5.1 MB\u001b[0m \u001b[31m6.6 MB/s\u001b[0m eta \u001b[36m0:00:00\u001b[0m00:01\u001b[0m00:01\u001b[0m\n",
      "\u001b[?25hInstalling collected packages: pip, numpy\n",
      "  Attempting uninstall: pip\n",
      "    Found existing installation: pip 24.0\n",
      "    Uninstalling pip-24.0:\n",
      "      Successfully uninstalled pip-24.0\n",
      "Successfully installed numpy-2.3.2 pip-25.2\n"
     ]
    },
    {
     "data": {
      "text/plain": [
       "array([1, 2, 3])"
      ]
     },
     "execution_count": 3,
     "metadata": {},
     "output_type": "execute_result"
    }
   ],
   "source": [
    "import sys\n",
    "print(sys.executable)          \n",
    "!{sys.executable} -m pip install -U pip numpy\n",
    "import numpy as np\n",
    "np.array([1,2,3])"
   ]
  },
  {
   "cell_type": "code",
   "execution_count": 5,
   "id": "57bfc1f9",
   "metadata": {},
   "outputs": [],
   "source": [
    "import numpy as np"
   ]
  },
  {
   "cell_type": "code",
   "execution_count": 6,
   "id": "2e333243",
   "metadata": {},
   "outputs": [
    {
     "name": "stdout",
     "output_type": "stream",
     "text": [
      "The derivative is f'(x) = 15x^2\n",
      "\n"
     ]
    }
   ],
   "source": [
    "# Run the following code to show the answer\n",
    "print(base64.b64decode(\"VGhlIGRlcml2YXRpdmUgaXMgZicoeCkgPSAxNXheMgo=\").decode())"
   ]
  },
  {
   "cell_type": "markdown",
   "id": "8f2135ca",
   "metadata": {},
   "source": [
    "# Preparation 2: Integral of a Power Function\n",
    "\n",
    "a) State the power rule for integration.\n",
    "\n",
    "b) Use the power rule to find the indefinite integral of the following power function: \n",
    "   g(x) = 2x^4"
   ]
  },
  {
   "cell_type": "code",
   "execution_count": 8,
   "id": "88b5f546",
   "metadata": {},
   "outputs": [
    {
     "data": {
      "text/plain": [
       "'b)2x^5/5 + C'"
      ]
     },
     "execution_count": 8,
     "metadata": {},
     "output_type": "execute_result"
    }
   ],
   "source": [
    "\"a) You have to add one to the exponent and then divide by the new exponent + C\"\n",
    "\"b)2x^5/5 + C\""
   ]
  },
  {
   "cell_type": "markdown",
   "id": "7c296cae",
   "metadata": {},
   "source": [
    "If you can not solve it directly, you can see this Guidance:\n",
    "\n",
    "1. Ensure that the students are familiar with the power rule for integration, which states that the integral of x^n, where n is a constant (except n = -1), is (x^(n+1))/(n+1) + C, where C is the constant of integration.\n",
    "2. Encourage them to substitute the given function into the power rule and apply the rule correctly.\n",
    "3. Remind them to include the constant of integration (C) in their final answer as it is necessary when finding the indefinite integral."
   ]
  },
  {
   "cell_type": "code",
   "execution_count": 12,
   "id": "f6e4f11d",
   "metadata": {},
   "outputs": [
    {
     "name": "stdout",
     "output_type": "stream",
     "text": [
      "∫ 2x^4 dx = 2 * (x^5)/5 + C\n",
      "\n"
     ]
    }
   ],
   "source": [
    "# Run the following code to show the answer\n",
    "print(base64.b64decode(\"4oirIDJ4XjQgZHggPSAyICogKHheNSkvNSArIEMK=\").decode())"
   ]
  },
  {
   "cell_type": "markdown",
   "id": "da259087",
   "metadata": {},
   "source": [
    "# Background story\n",
    "In the vastness of the universe, there is an ordinary YouTuber who finds himself with a group of loyal subscribers who faithfully watch his engaging videos in a very regular pattern.\n",
    "\n",
    "Eager to learn more about his fans, the YouTuber sought the assistance of two talented students, Student A and Student B. After the YouTuber released a new video, Student A diligently counted the clicks per hour for the first 80 hours, and saved the data in the file \"data_student_A.csv\". Meanwhile, Student B found that the total viewing time (in min) of the video can be accessed by the official website and he recorded the total viewing time of the video in the first 80 hours in \"data_student_B.csv\".\n",
    "\n",
    "Dear students, please help students A and B through solving the following three parts of questions. Please note that all data and models here are completely fictitious."
   ]
  },
  {
   "cell_type": "markdown",
   "id": "62b20c84",
   "metadata": {},
   "source": [
    "# Bronze medal: Integral of a Polynomial\n",
    "\n",
    "a) Student A carefully examine his data and proposed a model: \n",
    "\n",
    "The clicks per hour with respect to time can be described by function \n",
    "\n",
    "## $y=7.98 \\times 10^{-5} \\cdot x^5 - 1.80 \\times 10^{-2} \\cdot x^4 + 1.48 \\cdot x^3 - 52.5 \\cdot x^2 + 680 \\cdot x$\n",
    "\n",
    "where x is the past time in hour and y is the clicks. Can you plot the data and this function to have a look?\n"
   ]
  },
  {
   "cell_type": "code",
   "execution_count": 19,
   "id": "a0473d35",
   "metadata": {},
   "outputs": [
    {
     "name": "stdout",
     "output_type": "stream",
     "text": [
      "Requirement already satisfied: pandas in /opt/anaconda3/lib/python3.12/site-packages (2.2.2)\n",
      "Requirement already satisfied: numpy>=1.26.0 in /opt/anaconda3/lib/python3.12/site-packages (from pandas) (1.26.4)\n",
      "Requirement already satisfied: python-dateutil>=2.8.2 in /opt/anaconda3/lib/python3.12/site-packages (from pandas) (2.9.0.post0)\n",
      "Requirement already satisfied: pytz>=2020.1 in /opt/anaconda3/lib/python3.12/site-packages (from pandas) (2024.1)\n",
      "Requirement already satisfied: tzdata>=2022.7 in /opt/anaconda3/lib/python3.12/site-packages (from pandas) (2023.3)\n",
      "Requirement already satisfied: six>=1.5 in /opt/anaconda3/lib/python3.12/site-packages (from python-dateutil>=2.8.2->pandas) (1.16.0)\n",
      "Requirement already satisfied: pandas in /Library/Frameworks/Python.framework/Versions/3.12/lib/python3.12/site-packages (2.3.2)\n",
      "Requirement already satisfied: numpy in /Library/Frameworks/Python.framework/Versions/3.12/lib/python3.12/site-packages (2.3.2)\n",
      "Requirement already satisfied: matplotlib in /Library/Frameworks/Python.framework/Versions/3.12/lib/python3.12/site-packages (3.10.6)\n",
      "Requirement already satisfied: python-dateutil>=2.8.2 in /Library/Frameworks/Python.framework/Versions/3.12/lib/python3.12/site-packages (from pandas) (2.9.0.post0)\n",
      "Requirement already satisfied: pytz>=2020.1 in /Library/Frameworks/Python.framework/Versions/3.12/lib/python3.12/site-packages (from pandas) (2025.2)\n",
      "Requirement already satisfied: tzdata>=2022.7 in /Library/Frameworks/Python.framework/Versions/3.12/lib/python3.12/site-packages (from pandas) (2025.2)\n",
      "Requirement already satisfied: contourpy>=1.0.1 in /Library/Frameworks/Python.framework/Versions/3.12/lib/python3.12/site-packages (from matplotlib) (1.3.3)\n",
      "Requirement already satisfied: cycler>=0.10 in /Library/Frameworks/Python.framework/Versions/3.12/lib/python3.12/site-packages (from matplotlib) (0.12.1)\n",
      "Requirement already satisfied: fonttools>=4.22.0 in /Library/Frameworks/Python.framework/Versions/3.12/lib/python3.12/site-packages (from matplotlib) (4.59.2)\n",
      "Requirement already satisfied: kiwisolver>=1.3.1 in /Library/Frameworks/Python.framework/Versions/3.12/lib/python3.12/site-packages (from matplotlib) (1.4.9)\n",
      "Requirement already satisfied: packaging>=20.0 in /Library/Frameworks/Python.framework/Versions/3.12/lib/python3.12/site-packages (from matplotlib) (24.0)\n",
      "Requirement already satisfied: pillow>=8 in /Library/Frameworks/Python.framework/Versions/3.12/lib/python3.12/site-packages (from matplotlib) (11.3.0)\n",
      "Requirement already satisfied: pyparsing>=2.3.1 in /Library/Frameworks/Python.framework/Versions/3.12/lib/python3.12/site-packages (from matplotlib) (3.2.3)\n",
      "Requirement already satisfied: six>=1.5 in /Library/Frameworks/Python.framework/Versions/3.12/lib/python3.12/site-packages (from python-dateutil>=2.8.2->pandas) (1.16.0)\n"
     ]
    },
    {
     "data": {
      "image/png": "[encoded data removed]",
      "text/plain": [
       "<Figure size 1000x600 with 1 Axes>"
      ]
     },
     "metadata": {},
     "output_type": "display_data"
    }
   ],
   "source": [
    "!pip install pandas\n",
    "import sys\n",
    "!{sys.executable} -m pip install pandas numpy matplotlib\n",
    "import pandas as pd\n",
    "import matplotlib.pyplot as plt\n",
    "import numpy as np\n",
    "\n",
    "# Loads Student A's data\n",
    "data_A = pd.read_csv(\"data_student_A.csv\")\n",
    "\n",
    "# Extracts x (time in hours) and y (clicks per hour) from the CSV\n",
    "x_data = data_A['time (h)']       \n",
    "y_data = data_A[' clicks per hour']\n",
    "\n",
    "# Defines the polynomial model\n",
    "def model(x):\n",
    "    return (7.98e-5 * x**5 \n",
    "            - 1.80e-2 * x**4 \n",
    "            + 1.48 * x**3 \n",
    "            - 52.5 * x**2 \n",
    "            + 680 * x)\n",
    "\n",
    "# Generates smooth curve for the model\n",
    "x_curve = np.linspace(0, 80, 500)\n",
    "y_curve = model(x_curve)\n",
    "\n",
    "# Plots data vs model\n",
    "plt.figure(figsize=(10,6))\n",
    "plt.scatter(x_data, y_data, color='blue', label=\"Student A's data\", alpha=0.6)\n",
    "plt.plot(x_curve, y_curve, color='red', linewidth=2, label=\"Proposed model\")\n",
    "\n",
    "plt.xlabel(\"Time (hours)\")\n",
    "plt.ylabel(\" clicks per hour\")\n",
    "plt.title(\"YouTuber clicks per hour: Data vs Polynomial Model\")\n",
    "plt.legend()\n",
    "plt.grid(True)\n",
    "plt.show()\n",
    "\n",
    "\n",
    "\n"
   ]
  },
  {
   "cell_type": "markdown",
   "id": "60dc5670",
   "metadata": {},
   "source": [
    "b) When students A meet student B, they come into a big discussion, they think that the change in total viewing time should be reflected in the number of clicks per hour. That means they can use knowledge of Calculus to find the relationship between them. \n",
    "\n",
    "Can you find the indefinite integral of the function proposed by Student A?"
   ]
  },
  {
   "cell_type": "code",
   "execution_count": 43,
   "id": "cda2bd7d",
   "metadata": {},
   "outputs": [
    {
     "data": {
      "text/plain": [
       "'∫ y(x) dx = (7.98×10^-5 / 6) x^6 - (1.80×10^-2 / 5) x^5 + (1.48 / 4) x^4 - (52.5 / 3) x^3 + (680 / 2) x^2 + C'"
      ]
     },
     "execution_count": 43,
     "metadata": {},
     "output_type": "execute_result"
    }
   ],
   "source": [
    "\"∫ y(x) dx = (7.98×10^-5 / 6) x^6 - (1.80×10^-2 / 5) x^5 + (1.48 / 4) x^4 - (52.5 / 3) x^3 + (680 / 2) x^2 + C\""
   ]
  },
  {
   "cell_type": "markdown",
   "id": "b508641e",
   "metadata": {},
   "source": [
    "c) After communicating with the Youtuber and getting more data from his account, they found that the average viewing time of all audience for this video was 18 minutes. \n",
    "Based on this information, if Student A's model is justified, which function should the total viewing time in minutes be? \n",
    "\n",
    "Note that, when the time is 0, the total viewing time should be also 0, that means the funtion should pass the origin.\n",
    "\n",
    "You can plot the data of student B and this function to check that."
   ]
  },
  {
   "cell_type": "code",
   "execution_count": 44,
   "id": "949a1db0",
   "metadata": {},
   "outputs": [
    {
     "data": {
      "text/plain": [
       "'T(x)=18C(x)=0.0002394x6−0.0648x5+6.66x4−315x3+6120x2'"
      ]
     },
     "execution_count": 44,
     "metadata": {},
     "output_type": "execute_result"
    }
   ],
   "source": [
    "\"T(x)=18C(x)=0.0002394x6−0.0648x5+6.66x4−315x3+6120x2\""
   ]
  },
  {
   "cell_type": "code",
   "execution_count": 45,
   "id": "d6c85e67",
   "metadata": {},
   "outputs": [
    {
     "name": "stdout",
     "output_type": "stream",
     "text": [
      "After 80 hours, the video has about 61235 views.\n",
      "That equals about 1102233.5999999866 minutes (~18370.559999999776 hours) of total viewing time.\n"
     ]
    }
   ],
   "source": [
    "def IntegralPoly(x):\n",
    "    return (0.0000133 * x**6 \n",
    "            - 0.0036 * x**5 \n",
    "            + 0.37 * x**4 \n",
    "            - 17.5 * x**3 \n",
    "            + 340 * x**2)\n",
    "\n",
    "hours = 80\n",
    "views = IntegralPoly(hours)\n",
    "minutes = 18 * views\n",
    "\n",
    "print(f\"After {hours} hours, the video has about {views:.0f} views.\")\n",
    "print(f\"That equals about {minutes} minutes (~{minutes/60} hours) of total viewing time.\")\n"
   ]
  },
  {
   "cell_type": "markdown",
   "id": "5c26b15c",
   "metadata": {},
   "source": [
    "You can use the following code to compare the answer and your result."
   ]
  },
  {
   "cell_type": "code",
   "execution_count": 46,
   "id": "1f04f349",
   "metadata": {},
   "outputs": [
    {
     "ename": "NameError",
     "evalue": "name 'base64' is not defined",
     "output_type": "error",
     "traceback": [
      "\u001b[0;31m---------------------------------------------------------------------------\u001b[0m",
      "\u001b[0;31mNameError\u001b[0m                                 Traceback (most recent call last)",
      "Cell \u001b[0;32mIn[46], line 2\u001b[0m\n\u001b[1;32m      1\u001b[0m \u001b[38;5;66;03m# Run the following code to show the answer\u001b[39;00m\n\u001b[0;32m----> 2\u001b[0m \u001b[38;5;28mprint\u001b[39m(\u001b[43mbase64\u001b[49m\u001b[38;5;241m.\u001b[39mb64decode(\u001b[38;5;124m\"\u001b[39m\u001b[38;5;124mVGhlIGFuc3dlciBpczogCmRlZiBJbnRlZ3JhbFBvbHkoeCk6CiAgICB5ID0gMTgqKDEuMzNlLTA1KngqKjYgLTMuNmUtMDMqeCoqNSArMy43ZS0wMSp4Kio0IC0xLjc1ZSswMSp4KiozICszLjRlKzAyKngqKjIpCiAgICByZXR1cm4geQoKb3IKCmRlZiBJbnRlZ3JhbFBvbHkoeCk6CiAgICB5ID0gMi4zOTRlLTA0KngqKjYgLTYuNDgwZS0wMip4Kio1ICs2LjY2MGUrMDAqeCoqNCAtMy4xNTBlKzAyKngqKjMgKzYuMTIwZSswMyp4KioyKQogICAgcmV0dXJuIHkKCg==\u001b[39m\u001b[38;5;124m\"\u001b[39m)\u001b[38;5;241m.\u001b[39mdecode())\n",
      "\u001b[0;31mNameError\u001b[0m: name 'base64' is not defined"
     ]
    }
   ],
   "source": [
    "# Run the following code to show the answer\n",
    "print(base64.b64decode(\"VGhlIGFuc3dlciBpczogCmRlZiBJbnRlZ3JhbFBvbHkoeCk6CiAgICB5ID0gMTgqKDEuMzNlLTA1KngqKjYgLTMuNmUtMDMqeCoqNSArMy43ZS0wMSp4Kio0IC0xLjc1ZSswMSp4KiozICszLjRlKzAyKngqKjIpCiAgICByZXR1cm4geQoKb3IKCmRlZiBJbnRlZ3JhbFBvbHkoeCk6CiAgICB5ID0gMi4zOTRlLTA0KngqKjYgLTYuNDgwZS0wMip4Kio1ICs2LjY2MGUrMDAqeCoqNCAtMy4xNTBlKzAyKngqKjMgKzYuMTIwZSswMyp4KioyKQogICAgcmV0dXJuIHkKCg==\").decode())"
   ]
  },
  {
   "cell_type": "markdown",
   "id": "99470687",
   "metadata": {},
   "source": [
    "# Silver medal: Find the derivative of a function using the product rule and the rule of composite function"
   ]
  },
  {
   "cell_type": "markdown",
   "id": "62b0511b",
   "metadata": {},
   "source": [
    "a) Student B carefully examined his data and checked the literature. After that, he use this function to fit his data:\n",
    "\n",
    "## $y=144000\\cdot e^{-x/8}\\left( -x - 8\\right)+1152000$\n",
    "\n",
    "where x is the past time in hour and y is the total viewing time (in the unit of minus). \n",
    "\n",
    "Can you find the deriviative of this function?"
   ]
  },
  {
   "cell_type": "code",
   "execution_count": null,
   "id": "dbdb1dff",
   "metadata": {},
   "outputs": [
    {
     "data": {
      "text/plain": [
       "\"f'(x)=18000xe^-x/8\""
      ]
     },
     "execution_count": 25,
     "metadata": {},
     "output_type": "execute_result"
    }
   ],
   "source": [
    "\"f'(y)=18000xe^-x/8\""
   ]
  },
  {
   "cell_type": "markdown",
   "id": "e2bf4a7f",
   "metadata": {},
   "source": [
    "b) Following their previous discussion, assuming the correctness of the function found by Student B, they should be able to find the function that the number of clicks per hour will obey. Can you help them find this function?\n",
    "\n",
    "You can plot the data of student A and this function to check that."
   ]
  },
  {
   "cell_type": "code",
   "execution_count": null,
   "id": "d9eda3cd",
   "metadata": {},
   "outputs": [
    {
     "name": "stdout",
     "output_type": "stream",
     "text": [
      "65.37589885797819\n"
     ]
    }
   ],
   "source": [
    "def DerivativeExp(x):\n",
    "    return 18000 * x * np.exp(-x / 8)\n",
    "\n",
    "print(DerivativeExp(80))"
   ]
  },
  {
   "cell_type": "markdown",
   "id": "25a10518",
   "metadata": {},
   "source": [
    "# Gold medal: Find the derivative of a function using the quotient rule and conducting optimization"
   ]
  },
  {
   "cell_type": "markdown",
   "id": "8e19ebfe",
   "metadata": {},
   "source": [
    "a) Student C found their work very interesting and got involved. In some other paper, Student C had read that the Sigmoid function was very useful for this type of data and he decided to create such a model. After a regression to get the constants, his function was::\n",
    "\n",
    "## $f(x) = \\left(\\frac{1.65 \\times 10^6} {1 + \\exp{\\left(-\\frac{x}{8} + 1\\right)}} \\right)-5\\times 10^5$\n",
    "\n",
    "Can you help Student C find the function that demonstrates clicks per hour as a function of time?"
   ]
  },
  {
   "cell_type": "code",
   "execution_count": null,
   "id": "47153884",
   "metadata": {},
   "outputs": [],
   "source": [
    "def DerivativeSig(x):\n",
    "    # TO DO\n",
    "    pass\n",
    "    return # TO DO"
   ]
  },
  {
   "cell_type": "markdown",
   "id": "d4da1675",
   "metadata": {},
   "source": [
    "b) At this point we already have 3 models. Judging by the plots and your naked eye, which one do you think is the best?"
   ]
  },
  {
   "cell_type": "code",
   "execution_count": null,
   "id": "ff59a3e2-d8df-413b-b48f-92e27505f645",
   "metadata": {},
   "outputs": [],
   "source": [
    "# You can determine the best model in a variety of methods. "
   ]
  },
  {
   "cell_type": "code",
   "execution_count": null,
   "id": "2b75a408-1fd4-4108-a337-44aee9bf307e",
   "metadata": {},
   "outputs": [],
   "source": [
    "# Then fill in the final result here, or define the best model as a function of the same name\n",
    "\n",
    "BestModel = None #TO DO\n"
   ]
  },
  {
   "cell_type": "markdown",
   "id": "4bda7120-350f-4f25-8365-886daf562a48",
   "metadata": {},
   "source": [
    "c) Use the best model to calculate: at which hour does clicks per hour reach its maximum value? (rounded to two decimal places)"
   ]
  },
  {
   "cell_type": "code",
   "execution_count": null,
   "id": "f210dade-496d-44ab-941a-e4a3ae2826fc",
   "metadata": {},
   "outputs": [
    {
     "ename": "TypeError",
     "evalue": "unsupported format string passed to NoneType.__format__",
     "output_type": "error",
     "traceback": [
      "\u001b[0;31m---------------------------------------------------------------------------\u001b[0m",
      "\u001b[0;31mTypeError\u001b[0m                                 Traceback (most recent call last)",
      "Cell \u001b[0;32mIn[42], line 9\u001b[0m\n\u001b[1;32m      6\u001b[0m     \u001b[38;5;28;01mreturn\u001b[39;00m \u001b[38;5;66;03m# TO DO\u001b[39;00m\n\u001b[1;32m      8\u001b[0m \u001b[38;5;66;03m# Print the maximum clicks per hour\u001b[39;00m\n\u001b[0;32m----> 9\u001b[0m \u001b[38;5;28mprint\u001b[39m(\u001b[38;5;124;43m\"\u001b[39;49m\u001b[38;5;124;43mThe maximum clicks per hour occur at \u001b[39;49m\u001b[38;5;132;43;01m{:.2f}\u001b[39;49;00m\u001b[38;5;124;43m.\u001b[39;49m\u001b[38;5;124;43m\"\u001b[39;49m\u001b[38;5;241;43m.\u001b[39;49m\u001b[43mformat\u001b[49m\u001b[43m(\u001b[49m\u001b[43mfind_max_clicks\u001b[49m\u001b[43m(\u001b[49m\u001b[43mBestModel\u001b[49m\u001b[43m)\u001b[49m\u001b[43m)\u001b[49m)\n",
      "\u001b[0;31mTypeError\u001b[0m: unsupported format string passed to NoneType.__format__"
     ]
    }
   ],
   "source": [
    "# Start to calculate the time (hour) for the highest value\n",
    "# You can import any package you want\n",
    "def find_max_clicks(BestModel):\n",
    "    # TO DO\n",
    "    pass\n",
    "    return # TO DO\n",
    "\n",
    "# Print the maximum clicks per hour\n",
    "print(\"The maximum clicks per hour occur at {:.2f}.\".format(find_max_clicks(BestModel)))"
   ]
  },
  {
   "cell_type": "markdown",
   "id": "2b5cebf6",
   "metadata": {},
   "source": [
    "d) This YouTuber happened to get a double-coupon. This special double-coupon can doubles his profits from all viewings for 5 hours and he can choose the exact time to start. Based on the model we found, can you suggest which hour he should start using this coupon? The time is counted as 0 when his video is published. (rounded to two decimal places)"
   ]
  },
  {
   "cell_type": "code",
   "execution_count": null,
   "id": "09b1d9a8",
   "metadata": {},
   "outputs": [],
   "source": [
    "# Start to calculate the best time (hour) for the coupon\n",
    "# You can use places outside of this function, including defining new parameters and new functions.\n",
    "def find_best_coupon_time(BestModel):\n",
    "    # TO DO\n",
    "    pass\n",
    "    return # TO DO\n",
    "\n",
    "# Finding best 5-hour period to activate the double coupon\n",
    "print(\"The best time to start the 5-hour double coupon is at hour {:.2f}\".format(find_best_coupon_time(BestModel)))"
   ]
  },
  {
   "cell_type": "code",
   "execution_count": null,
   "id": "e1ae2a1a-affb-4d03-8703-6764593187b0",
   "metadata": {},
   "outputs": [],
   "source": []
  }
 ],
 "metadata": {
  "kernelspec": {
   "display_name": "Python 3",
   "language": "python",
   "name": "python3"
  },
  "language_info": {
   "codemirror_mode": {
    "name": "ipython",
    "version": 3
   },
   "file_extension": ".py",
   "mimetype": "text/x-python",
   "name": "python",
   "nbconvert_exporter": "python",
   "pygments_lexer": "ipython3",
   "version": "3.12.3"
  }
 },
 "nbformat": 4,
 "nbformat_minor": 5
}
